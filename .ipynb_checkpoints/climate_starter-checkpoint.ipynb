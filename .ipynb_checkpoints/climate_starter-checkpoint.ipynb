{
 "cells": [
  {
   "cell_type": "code",
   "execution_count": null,
   "metadata": {},
   "outputs": [],
   "source": [
    "#loading dependencies - 2020/04/07 - Randy Dettmer \n",
    "%matplotlib inline\n",
    "from matplotlib import style\n",
    "style.use('fivethirtyeight')\n",
    "import matplotlib.pyplot as plt"
   ]
  },
  {
   "cell_type": "code",
   "execution_count": null,
   "metadata": {},
   "outputs": [],
   "source": [
    "import numpy as np\n",
    "import pandas as pd\n",
    "import seaborn as sns\n",
    "import datetime as dt"
   ]
  },
  {
   "cell_type": "markdown",
   "metadata": {},
   "source": [
    "# Reflect Tables into SQLAlchemy ORM"
   ]
  },
  {
   "cell_type": "code",
   "execution_count": null,
   "metadata": {},
   "outputs": [],
   "source": [
    "# Python SQL toolkit and Object Relational Mapper\n",
    "import sqlalchemy\n",
    "from sqlalchemy.ext.automap import automap_base\n",
    "from sqlalchemy.orm import Session\n",
    "from sqlalchemy import create_engine, inspect, func, asc, desc"
   ]
  },
  {
   "cell_type": "code",
   "execution_count": null,
   "metadata": {},
   "outputs": [],
   "source": [
    "# Create the connection engine 'hawaii.sqlite' database file\n",
    "engine = create_engine(\"sqlite:///../Resources/hawaii.sqlite\")"
   ]
  },
  {
   "cell_type": "code",
   "execution_count": null,
   "metadata": {},
   "outputs": [],
   "source": [
    "# reflect an existing database into a new model\n",
    "Base = automap_base()\n",
    "# reflect the tables\n",
    "Base.prepare(engine, reflect=True)"
   ]
  },
  {
   "cell_type": "code",
   "execution_count": null,
   "metadata": {},
   "outputs": [],
   "source": [
    "# We can view all of the classes that automap found\n",
    "Base.classes.keys()"
   ]
  },
  {
   "cell_type": "code",
   "execution_count": null,
   "metadata": {},
   "outputs": [],
   "source": [
    "#create inspector to see column names of classes\n",
    "inspector = inspect(engine)"
   ]
  },
  {
   "cell_type": "code",
   "execution_count": null,
   "metadata": {},
   "outputs": [],
   "source": [
    "#get a list of column names in measurement\n",
    "mcolumns = inspector.get_columns('measurement')\n",
    "for c in mcolumns:\n",
    "    print(c['name'], c['type'])\n",
    "#columns for measurement"
   ]
  },
  {
   "cell_type": "code",
   "execution_count": null,
   "metadata": {},
   "outputs": [],
   "source": [
    "#get a list of column names in station\n",
    "scolumns = inspector.get_columns('station')\n",
    "for c in scolumns:\n",
    "    print(c['name'], c['type'])\n",
    "#columns for station"
   ]
  },
  {
   "cell_type": "code",
   "execution_count": null,
   "metadata": {},
   "outputs": [],
   "source": [
    "# Save references to each table\n",
    "Mea = Base.classes.measurement\n",
    "Sta = Base.classes.station"
   ]
  },
  {
   "cell_type": "code",
   "execution_count": null,
   "metadata": {},
   "outputs": [],
   "source": [
    "# Create our session (link) from Python to the DB\n",
    "session = Session(engine)"
   ]
  },
  {
   "cell_type": "markdown",
   "metadata": {},
   "source": [
    "# Exploratory Climate Analysis"
   ]
  },
  {
   "cell_type": "code",
   "execution_count": null,
   "metadata": {},
   "outputs": [],
   "source": [
    "# Design a query to retrieve the last 12 months of precipitation data and plot the results\n",
    "\n",
    "# Calculate the date 1 year ago from the last data point in the database\n",
    "\n",
    "# Perform a query to retrieve the data and precipitation scores\n",
    "\n",
    "# Save the query results as a Pandas DataFrame and set the index to the date column\n",
    "\n",
    "# Sort the dataframe by date\n",
    "\n",
    "# Use Pandas Plotting with Matplotlib to plot the data\n"
   ]
  },
  {
   "cell_type": "code",
   "execution_count": null,
   "metadata": {},
   "outputs": [],
   "source": [
    "# determine latest date in the Measurement (Mea) database\n",
    "session.query(Mea.date).order_by(Mea.date.desc()).first()"
   ]
  },
  {
   "cell_type": "code",
   "execution_count": null,
   "metadata": {},
   "outputs": [],
   "source": [
    "# create variable for last 12 month period of the database\n",
    "query_date = dt.date(2017, 8, 23) - dt.timedelta(days=366)\n",
    "print(\"Query date:\", query_date)"
   ]
  },
  {
   "cell_type": "code",
   "execution_count": null,
   "metadata": {},
   "outputs": [],
   "source": [
    "# Design a query to retrieve the last 12 months of precipitation data and plot the results\n",
    "data1 = (session.query(Mea.date, Mea.prcp).filter(Mea.date >= query_date).order_by(Mea.date).all())"
   ]
  },
  {
   "cell_type": "code",
   "execution_count": null,
   "metadata": {},
   "outputs": [],
   "source": [
    "# create dataframe with only date and prcp with date as index\n",
    "df1 = pd.DataFrame(data1)\n",
    "df1.head()"
   ]
  },
  {
   "cell_type": "code",
   "execution_count": null,
   "metadata": {},
   "outputs": [],
   "source": [
    "#remove NaN values set index and sort index by date\n",
    "df2 = df1.dropna(how=\"any\")\n",
    "df2.set_index('date', inplace=True)\n",
    "df2.sort_index(ascending=True)\n",
    "df2.head()"
   ]
  },
  {
   "cell_type": "code",
   "execution_count": null,
   "metadata": {},
   "outputs": [],
   "source": [
    "#plot prcp by date\n",
    "fig, ax = plt.subplots(figsize = (16, 8))\n",
    "df2.plot(ax = ax, x_compat = True, color='m')\n",
    "\n",
    "#set title and labels\n",
    "ax.set_xlabel(\"Date Range\")\n",
    "ax.set_ylabel(\"Precipitation in Inches\")\n",
    "ax.set_title(\"Precipitation for 12 Months in Honolulu, Hawaii\")\n",
    "\n",
    "#save figure\n",
    "plt.savefig(\"plot_precp12mo.png\")\n",
    "\n",
    "#plot figure\n",
    "plt.tight_layout()\n",
    "plt.show()\n"
   ]
  },
  {
   "cell_type": "code",
   "execution_count": null,
   "metadata": {},
   "outputs": [],
   "source": [
    "# Use Pandas to calcualte the summary statistics for the precipitation data\n",
    "df2.describe()"
   ]
  },
  {
   "cell_type": "code",
   "execution_count": null,
   "metadata": {},
   "outputs": [],
   "source": [
    "# Design a query to show how many stations are available in this dataset\n",
    "staloc=session.query(Sta).group_by(Sta.station).count()\n",
    "print(f\"Total number of stations in this dataset is {staloc}.\")"
   ]
  },
  {
   "cell_type": "code",
   "execution_count": null,
   "metadata": {},
   "outputs": [],
   "source": [
    "# What are the most active stations? (i.e. what stations have the most rows)\n",
    "# List the stations and the counts in descending order.\n",
    "stacnt = (session.query(Mea.station, func.count(Mea.station)).group_by(Mea.station).order_by(func.count(Mea.station).desc()).all())\n",
    "#print list of activity of stations\n",
    "stacnt"
   ]
  },
  {
   "cell_type": "code",
   "execution_count": null,
   "metadata": {},
   "outputs": [],
   "source": [
    "# Using the station id from the previous query, calculate the lowest temperature recorded, \n",
    "# highest temperature recorded, and average temperature of the most active station\n",
    "mactsta = (session.query(Mea.station, func.count(Mea.station)).group_by(Mea.station).order_by(func.count(Mea.station).desc()).first())\n",
    "print(f\"The most active station was {mactsta[0]} with {mactsta[1]} recordings.\")"
   ]
  },
  {
   "cell_type": "code",
   "execution_count": null,
   "metadata": {},
   "outputs": [],
   "source": [
    "# collect temperature data for most active station\n",
    "macttemp =session.query(func.min(Mea.tobs), func.max(Mea.tobs), func.avg(Mea.tobs)).filter(Mea.station==mactsta[0]).all()\n",
    "print(f\"The lowest temperature recorded at {mactsta[0]} is: {macttemp[0][0]} degrees Fahrenheit.\")\n",
    "print(f\"The highest temperature recorded at {mactsta[0]} is: {macttemp[0][1]} degrees Fahrenheit.\")\n",
    "print(f\"The average temperature recorded at {mactsta[0]} is: {round(macttemp[0][2], 1)} degrees Fahrenheit.\")"
   ]
  },
  {
   "cell_type": "code",
   "execution_count": null,
   "metadata": {},
   "outputs": [],
   "source": [
    "# Choose the station with the highest number of temperature observations.\n",
    "# Query the last 12 months of temperature observation data for this station and plot the results as a histogram\n",
    "# query for the last year of temperature data for one year\n",
    "tdata = (session.query(Mea.date, Mea.tobs).filter(Mea.date >= query_date).filter(Mea.station == mactsta[0]).order_by(Mea.date).all())"
   ]
  },
  {
   "cell_type": "code",
   "execution_count": null,
   "metadata": {},
   "outputs": [],
   "source": [
    "#convert query object to data frame\n",
    "df3 = pd.DataFrame(tdata)\n",
    "df3 = df3.set_index(\"date\")\n",
    "\n",
    "#sort by date\n",
    "df3 = df3.sort_index(ascending=True)"
   ]
  },
  {
   "cell_type": "code",
   "execution_count": null,
   "metadata": {},
   "outputs": [],
   "source": [
    "#plot histogram\n",
    "fig, ax = plt.subplots(figsize=(10,5))\n",
    "df3.plot.hist(bins = 12, ax = ax, color='y')\n",
    "\n",
    "#set labels\n",
    "ax.set_xlabel(\"Temperature in Fahrenheit\")\n",
    "ax.set_ylabel(\"Frequency\")\n",
    "ax.set_title(\"Temperature for 12 Months in Honolulu, Hawaii\")\n",
    "\n",
    "#save figure\n",
    "plt.savefig(\"plot_temp12mo.png\")\n",
    "\n",
    "#plot figure\n",
    "plt.tight_layout()\n",
    "plt.show()"
   ]
  },
  {
   "cell_type": "markdown",
   "metadata": {},
   "source": [
    "## Bonus Challenge Assignment"
   ]
  },
  {
   "cell_type": "code",
   "execution_count": null,
   "metadata": {},
   "outputs": [],
   "source": [
    "# TEMPERATURE ANALYSIS I\n",
    "#determine if there is a meaningful difference between temperatures between June and December\n",
    "smon = \"06\"\n",
    "emon = \"12\""
   ]
  },
  {
   "cell_type": "code",
   "execution_count": null,
   "metadata": {},
   "outputs": [],
   "source": [
    "#collect data between June and December for entire data set and put into a dataframe\n",
    "#data for June\n",
    "tdataj = session.query(Mea.date, Mea.tobs).\\\n",
    "        filter(func.strftime(\"%m\", Mea.date) == smon).all()\n",
    "#data for December\n",
    "tdatad = session.query(Mea.date, Mea.tobs).\\\n",
    "        filter(func.strftime(\"%m\", Mea.date) == emon).all()\n",
    "#create dataframes for each month\n",
    "dfj = pd.DataFrame(tdataj)\n",
    "dfd = pd.DataFrame(tdatad)\n",
    "\n",
    "dfd.head()"
   ]
  },
  {
   "cell_type": "code",
   "execution_count": null,
   "metadata": {},
   "outputs": [],
   "source": [
    "#calculate average temperature for June and December across all years\n",
    "juneavg = dfj.tobs.mean()\n",
    "decavg = dfd.tobs.mean()\n",
    "print(f\"The average temperature for June {round(juneavg,1)} degrees Fahrenheit.\")\n",
    "print(f\"The average temperature for December {round(decavg,1)} degrees Fahrenheit.\")"
   ]
  },
  {
   "cell_type": "code",
   "execution_count": null,
   "metadata": {},
   "outputs": [],
   "source": [
    "#test means across June and December across all years - t-test\n",
    "#scatter plot\n",
    "plt.subplot()\n",
    "plt.scatter(range(len(dfj.tobs)), dfj.tobs, label=\"June Temperatures\")\n",
    "plt.scatter(range(len(dfd.tobs)), dfd.tobs, Label=\"December Temperatures\")\n",
    "plt.xlabel(\"Observations\")\n",
    "plt.ylabel(\"Temperatures\")\n",
    "plt.legend()\n",
    "\n",
    "#save figure\n",
    "plt.savefig(\"plot_jundectempscat.png\")\n"
   ]
  },
  {
   "cell_type": "code",
   "execution_count": null,
   "metadata": {},
   "outputs": [],
   "source": [
    "#histogram\n",
    "plt.subplot()\n",
    "plt.hist(dfj.tobs, 10, density=True, alpha=0.5, label=\"June Temperatures\")\n",
    "plt.hist(dfd.tobs, 10, density=True, alpha=0.5, label=\"December Temperatures\")\n",
    "plt.axvline(dfj.tobs.mean(), color=\"k\", linestyle=\"dashed\", linewidth=1)\n",
    "plt.axvline(dfd.tobs.mean(), color=\"k\", linestyle=\"dashed\", linewidth=1)\n",
    "plt.xlabel(\"Temperature\")\n",
    "plt.legend()\n",
    "\n",
    "#save figure\n",
    "plt.savefig(\"plot_temp12mohist.png\")"
   ]
  },
  {
   "cell_type": "code",
   "execution_count": null,
   "metadata": {},
   "outputs": [],
   "source": [
    "#load scipy.stats to conduct t-test\n",
    "import scipy.stats as stats\n",
    "#Note: setting equal_val=False performs Welch's t-test which does not assume equal population variance\n",
    "stats.ttest_ind(dfj.tobs, dfd.tobs, equal_var=False)"
   ]
  },
  {
   "cell_type": "markdown",
   "metadata": {},
   "source": [
    "###Temperature Analysis I - conclusions\n",
    "\n",
    "#We conduct an independent t-tests comparing the means of 2 independent populations, June and December tobs.\n",
    "#The test above test measures whether the average (expected) value differs significantly across samples. \n",
    "#Since we observe a large p-value of 4.19, then we can reject the null hypothesis of identical average scores."
   ]
  },
  {
   "cell_type": "code",
   "execution_count": null,
   "metadata": {},
   "outputs": [],
   "source": [
    "#TEMPERATURE ANALYSIS II\n",
    "# This function called `calc_temps` will accept start date and end date in the format '%Y-%m-%d' \n",
    "# and return the minimum, average, and maximum temperatures for that range of dates\n",
    "def calc_temps(start_date, end_date):\n",
    "    \"\"\"TMIN, TAVG, and TMAX for a list of dates.\n",
    "    \n",
    "    Args:\n",
    "        start_date (string): A date string in the format %Y-%m-%d\n",
    "        end_date (string): A date string in the format %Y-%m-%d\n",
    "        \n",
    "    Returns:\n",
    "        TMIN, TAVE, and TMAX\n",
    "    \"\"\"\n",
    "    \n",
    "    return session.query(func.min(Mea.tobs), func.avg(Mea.tobs), func.max(Mea.tobs)).\\\n",
    "        filter(Mea.date >= start_date).filter(Mea.date <= end_date).all()\n",
    "\n",
    "# function usage example\n",
    "print(calc_temps('2012-02-28', '2012-03-05'))"
   ]
  },
  {
   "cell_type": "code",
   "execution_count": null,
   "metadata": {},
   "outputs": [],
   "source": [
    "# TEMPERATURE ANALYSIS II\n",
    "# calculate vacation range - October 7 thru October 14\n",
    "start_date = dt.date(2016, 10, 7) \n",
    "end_date = dt.date(2016, 10, 14)"
   ]
  },
  {
   "cell_type": "code",
   "execution_count": null,
   "metadata": {},
   "outputs": [],
   "source": [
    "#calculate year prior date range\n",
    "yrprior_start = start_date - dt.timedelta(days=366)\n",
    "yrprior_end = end_date - dt.timedelta(days=366)\n",
    "\n",
    "print(\"Query dates:\", yrprior_start, yrprior_end)"
   ]
  },
  {
   "cell_type": "code",
   "execution_count": null,
   "metadata": {},
   "outputs": [],
   "source": [
    "# Use your previous function `calc_temps` to calculate the tmin, tavg, and tmax - calculated for year prior with same date range\n",
    "# for your trip using the previous year's data for those same dates.\n",
    "#calculate the tmin, tavg, and tmax\n",
    "pyt = calc_temps(yrprior_start, yrprior_end)\n",
    "print(f\"Trip minimum temperature is: {pyt[0][0]} degrees Fahrenheit.\")\n",
    "print(f\"Trip average temperature is: {round (pyt[0][1], 1)} degrees Fahrenheit.\")\n",
    "print(f\"Trip maximum temperature is: {pyt[0][2]} degrees Fahrenheit.\")\n"
   ]
  },
  {
   "cell_type": "code",
   "execution_count": null,
   "metadata": {},
   "outputs": [],
   "source": [
    "# Plot the results from your previous query as a bar chart. \n",
    "# Use \"Trip Avg Temp\" as your Title\n",
    "# Use the average temperature for the y value\n",
    "# Use the peak-to-peak (tmax-tmin) value as the y error bar (yerr)\n"
   ]
  },
  {
   "cell_type": "code",
   "execution_count": null,
   "metadata": {
    "scrolled": true
   },
   "outputs": [],
   "source": [
    "#generate graph with prior year data\n",
    "tt = calc_temps(yrprior_start, yrprior_end)\n",
    "\n",
    "mintt = tt[0][0]\n",
    "avgtt = tt[0][1]\n",
    "maxtt = tt[0][2]\n",
    "minerror = avgtt - mintt\n",
    "maxerror = maxtt - avgtt\n",
    "errorbars = np.array([[minerror], [maxerror]])\n",
    "\n",
    "plt.bar(\"2015-10-07 to 2015-10-14\", avgtt, yerr=errorbars, color=\"aqua\", alpha=.5)\n",
    "plt.ylim(0, 100)\n",
    "plt.xlim(-1, 1)\n",
    "plt.title(\"Trip Avg Temp\")\n",
    "plt.ylabel(\"Temperature in Degrees Fahrenheit\")\n",
    "plt.grid(alpha=.5)\n",
    "\n",
    "#save figure\n",
    "plt.savefig(\"plot_tripavgtemp.png\")\n",
    "\n",
    "#display figure\n",
    "plt.tight_layout()\n",
    "plt.show()"
   ]
  },
  {
   "cell_type": "code",
   "execution_count": null,
   "metadata": {},
   "outputs": [],
   "source": [
    "#DAILY RAINFALL AVERAGE\n",
    "# Calculate the total amount of rainfall per weather station for your trip dates using the previous year's matching dates.\n",
    "# Sort this in descending order by precipitation amount and list the station, name, latitude, longitude, and elevation\n",
    "\n"
   ]
  },
  {
   "cell_type": "code",
   "execution_count": null,
   "metadata": {},
   "outputs": [],
   "source": [
    "#query for precipitation per station on trip dates using yrprior_start and yrprior_end generated above\n",
    "sel = ([Sta.station, Sta.name,func.sum(Mea.prcp),Sta.latitude,Sta.longitude,Sta.elevation])\n",
    "\n",
    "starain = (session.query(*sel).filter(Sta.station == Mea.station).\\\n",
    "    filter(Mea.date >= yrprior_start).filter(Mea.date <= yrprior_end).group_by(Sta.station).order_by(func.sum(Mea.prcp).desc()).all())\n",
    "\n",
    "#convert query to dataframe\n",
    "dfr = pd.DataFrame(starain, columns=[\"Station\", \"Location\", \"Precipitation\", \"Latitude\", \"Longitude\", \"Elevation\"])\n",
    "\n",
    "dfr"
   ]
  },
  {
   "cell_type": "code",
   "execution_count": null,
   "metadata": {},
   "outputs": [],
   "source": [
    "# Create a query that will calculate the daily normals \n",
    "# (i.e. the averages for tmin, tmax, and tavg for all historic data matching a specific month and day)\n",
    "\n",
    "def daily_normals(date):\n",
    "    \"\"\"Daily Normals.\n",
    "    \n",
    "    Args:\n",
    "        date (str): A date string in the format '%m-%d'\n",
    "        \n",
    "    Returns:\n",
    "        A list of tuples containing the daily normals, tmin, tavg, and tmax\n",
    "    \n",
    "    \"\"\"\n",
    "    \n",
    "    sel = [func.min(Mea.tobs), func.avg(Mea.tobs), func.max(Mea.tobs)]\n",
    "    return session.query(*sel).filter(func.strftime(\"%m-%d\", Mea.date) == date).all()\n",
    "    \n",
    "daily_normals(\"01-01\")"
   ]
  },
  {
   "cell_type": "code",
   "execution_count": null,
   "metadata": {},
   "outputs": [],
   "source": [
    "# calculate the daily normals for your trip\n",
    "# push each tuple of calculations into a list called `normals`\n",
    "\n",
    "# Set the start and end date of the trip\n",
    "\n",
    "# Use the start and end date to create a range of dates\n",
    "\n",
    "# Stip off the year and save a list of %m-%d strings\n",
    "\n",
    "# Loop through the list of %m-%d strings and calculate the normals for each date\n"
   ]
  },
  {
   "cell_type": "code",
   "execution_count": null,
   "metadata": {},
   "outputs": [],
   "source": [
    "#create a list of trip dates\n",
    "trip_dates = [\"10-07\", \"10-08\", \"10-09\", \"10-10\", \"10-11\", \"10-12\", \"10-13\", \"10-14\"]"
   ]
  },
  {
   "cell_type": "code",
   "execution_count": null,
   "metadata": {},
   "outputs": [],
   "source": [
    "#collect list of daily normal temperatures\n",
    "normals = []\n",
    "\n",
    "for date in trip_dates:\n",
    "    day = {}\n",
    "    day['Date'] = date\n",
    "    normal = daily_normals(date)\n",
    "    day['Min'] = normal[0][0]\n",
    "    day['Avg'] = normal[0][1]\n",
    "    day['Max'] = normal[0][2]\n",
    "    normals.append(day)\n",
    "normals"
   ]
  },
  {
   "cell_type": "code",
   "execution_count": null,
   "metadata": {},
   "outputs": [],
   "source": [
    "# Load the previous query results into a Pandas DataFrame and add the `trip_dates` range as the `date` index\n",
    "dfn = pd.DataFrame(normals)\n",
    "#set index\n",
    "dfn.set_index('Date', inplace = True)\n",
    "#display\n",
    "dfn.head()"
   ]
  },
  {
   "cell_type": "code",
   "execution_count": null,
   "metadata": {},
   "outputs": [],
   "source": [
    "# Plot the daily normals as an area plot with `stacked=False`\n",
    "dfn.plot.area(stacked=False, alpha=.5)\n",
    "plt.title(\"Normal Temperatures for Honolulu, HI\")\n",
    "plt.ylabel(\"Temperature in Degrees Fahrenheit\")\n",
    "\n",
    "#save figure\n",
    "plt.savefig(\"plot_normals.png\")\n",
    "\n",
    "#displat figure\n",
    "plt.tight_layout()\n",
    "plt.show()"
   ]
  },
  {
   "cell_type": "code",
   "execution_count": null,
   "metadata": {},
   "outputs": [],
   "source": []
  }
 ],
 "metadata": {
  "kernel_info": {
   "name": "python3"
  },
  "kernelspec": {
   "display_name": "Python 3.7.4 64-bit ('base': conda)",
   "language": "python",
   "name": "python37464bitbasecondac6f1fed7da40427ba8d315f08c07b158"
  },
  "language_info": {
   "codemirror_mode": {
    "name": "ipython",
    "version": 3
   },
   "file_extension": ".py",
   "mimetype": "text/x-python",
   "name": "python",
   "nbconvert_exporter": "python",
   "pygments_lexer": "ipython3",
   "version": "3.7.4"
  },
  "nteract": {
   "version": "0.12.3"
  },
  "varInspector": {
   "cols": {
    "lenName": 16,
    "lenType": 16,
    "lenVar": 40
   },
   "kernels_config": {
    "python": {
     "delete_cmd_postfix": "",
     "delete_cmd_prefix": "del ",
     "library": "var_list.py",
     "varRefreshCmd": "print(var_dic_list())"
    },
    "r": {
     "delete_cmd_postfix": ") ",
     "delete_cmd_prefix": "rm(",
     "library": "var_list.r",
     "varRefreshCmd": "cat(var_dic_list()) "
    }
   },
   "types_to_exclude": [
    "module",
    "function",
    "builtin_function_or_method",
    "instance",
    "_Feature"
   ],
   "window_display": false
  }
 },
 "nbformat": 4,
 "nbformat_minor": 2
}
